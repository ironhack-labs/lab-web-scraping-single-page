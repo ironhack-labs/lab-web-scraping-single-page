{
 "cells": [
  {
   "cell_type": "code",
   "execution_count": 190,
   "id": "79944c5c",
   "metadata": {},
   "outputs": [
    {
     "data": {
      "text/plain": [
       "'\\n\\nInstructions - Scraping popular songs\\nYour product will take a song as an input from the user and will output another song (the recommendation). In most cases, the recommended song will have to be similar to the inputted song, but the CTO thinks that if the song is on the top charts at the moment, the user will enjoy more a recommendation of a song that\\'s also popular at the moment.\\n\\nYou have find data on the internet about currently popular songs. Billboard maintains a weekly Top 100 of \"hot\" songs here: https://www.billboard.com/charts/hot-100.\\n\\nIt\\'s a good place to start! Scrape the current top 100 songs and their respective artists, and put the information into a pandas dataframe.\\n\\n\\n'"
      ]
     },
     "execution_count": 190,
     "metadata": {},
     "output_type": "execute_result"
    }
   ],
   "source": [
    "'''\n",
    "\n",
    "Instructions - Scraping popular songs\n",
    "Your product will take a song as an input from the user and will output another song (the recommendation). In most cases, the recommended song will have to be similar to the inputted song, but the CTO thinks that if the song is on the top charts at the moment, the user will enjoy more a recommendation of a song that's also popular at the moment.\n",
    "\n",
    "You have find data on the internet about currently popular songs. Billboard maintains a weekly Top 100 of \"hot\" songs here: https://www.billboard.com/charts/hot-100.\n",
    "\n",
    "It's a good place to start! Scrape the current top 100 songs and their respective artists, and put the information into a pandas dataframe.\n",
    "\n",
    "\n",
    "'''"
   ]
  },
  {
   "cell_type": "code",
   "execution_count": 191,
   "id": "0f4bc976",
   "metadata": {},
   "outputs": [],
   "source": [
    "import pandas as pd\n",
    "import numpy as np\n",
    "import requests\n",
    "\n",
    "from bs4 import BeautifulSoup"
   ]
  },
  {
   "cell_type": "code",
   "execution_count": 192,
   "id": "d069b8ba",
   "metadata": {},
   "outputs": [],
   "source": [
    "url = 'https://www.billboard.com/charts/hot-100'"
   ]
  },
  {
   "cell_type": "code",
   "execution_count": 193,
   "id": "69279461",
   "metadata": {},
   "outputs": [
    {
     "data": {
      "text/plain": [
       "<Response [200]>"
      ]
     },
     "execution_count": 193,
     "metadata": {},
     "output_type": "execute_result"
    }
   ],
   "source": [
    "response = requests.get(url)\n",
    "response "
   ]
  },
  {
   "cell_type": "code",
   "execution_count": 194,
   "id": "fe604fc7",
   "metadata": {},
   "outputs": [],
   "source": [
    "soup = BeautifulSoup(response.content, 'html.parser')"
   ]
  },
  {
   "cell_type": "code",
   "execution_count": 195,
   "id": "b2ce3af2",
   "metadata": {},
   "outputs": [],
   "source": [
    "list100 = soup.find_all('h3', class_ ='c-title')\n",
    "\n",
    "listname = soup.find_all('span', class_ = 'c-label')"
   ]
  },
  {
   "cell_type": "code",
   "execution_count": 196,
   "id": "8bc56748",
   "metadata": {},
   "outputs": [],
   "source": [
    "song_name= []\n",
    "\n",
    "for song in range(6, 404 ,4):\n",
    "    \n",
    "    song_name.append(list100[song].text.strip())\n",
    "\n",
    "song_authors = []\n",
    "\n",
    "for name in range(len(listname)):\n",
    "    \n",
    "    song_authors.append(listname[name].text.strip())"
   ]
  },
  {
   "cell_type": "code",
   "execution_count": 204,
   "id": "00726d97",
   "metadata": {},
   "outputs": [],
   "source": [
    "artist_names = [item for item in song_authors if isinstance(item, str) and not item.isdigit()]"
   ]
  },
  {
   "cell_type": "code",
   "execution_count": 206,
   "id": "3e814c3d",
   "metadata": {
    "scrolled": true
   },
   "outputs": [
    {
     "data": {
      "text/plain": [
       "132"
      ]
     },
     "execution_count": 206,
     "metadata": {},
     "output_type": "execute_result"
    }
   ],
   "source": [
    "len(artist_names)"
   ]
  },
  {
   "cell_type": "code",
   "execution_count": 239,
   "id": "1abf2117",
   "metadata": {},
   "outputs": [],
   "source": [
    "artist=pd.DataFrame({'artist_name': artist_names})"
   ]
  },
  {
   "cell_type": "code",
   "execution_count": 231,
   "id": "8864877f",
   "metadata": {},
   "outputs": [],
   "source": [
    "df_art = artist[~artist['artist_name'].isin(['RE-\\nENTRY', '-', 'REENTRY', 'NEW'])]"
   ]
  },
  {
   "cell_type": "code",
   "execution_count": 232,
   "id": "2387ab9e",
   "metadata": {},
   "outputs": [],
   "source": [
    "df = pd.DataFrame({'song_name': song_name})"
   ]
  },
  {
   "cell_type": "code",
   "execution_count": 237,
   "id": "eba27814",
   "metadata": {
    "scrolled": true
   },
   "outputs": [
    {
     "data": {
      "text/html": [
       "<div>\n",
       "<style scoped>\n",
       "    .dataframe tbody tr th:only-of-type {\n",
       "        vertical-align: middle;\n",
       "    }\n",
       "\n",
       "    .dataframe tbody tr th {\n",
       "        vertical-align: top;\n",
       "    }\n",
       "\n",
       "    .dataframe thead th {\n",
       "        text-align: right;\n",
       "    }\n",
       "</style>\n",
       "<table border=\"1\" class=\"dataframe\">\n",
       "  <thead>\n",
       "    <tr style=\"text-align: right;\">\n",
       "      <th></th>\n",
       "      <th>song_name</th>\n",
       "      <th>artist_name</th>\n",
       "    </tr>\n",
       "  </thead>\n",
       "  <tbody>\n",
       "    <tr>\n",
       "      <th>0</th>\n",
       "      <td>Lovin On Me</td>\n",
       "      <td>Jack Harlow</td>\n",
       "    </tr>\n",
       "    <tr>\n",
       "      <th>1</th>\n",
       "      <td>Cruel Summer</td>\n",
       "      <td>Taylor Swift</td>\n",
       "    </tr>\n",
       "    <tr>\n",
       "      <th>2</th>\n",
       "      <td>Greedy</td>\n",
       "      <td>Tate McRae</td>\n",
       "    </tr>\n",
       "    <tr>\n",
       "      <th>3</th>\n",
       "      <td>Lose Control</td>\n",
       "      <td>Teddy Swims</td>\n",
       "    </tr>\n",
       "    <tr>\n",
       "      <th>4</th>\n",
       "      <td>I Remember Everything</td>\n",
       "      <td>Zach Bryan Featuring Kacey Musgraves</td>\n",
       "    </tr>\n",
       "    <tr>\n",
       "      <th>...</th>\n",
       "      <td>...</td>\n",
       "      <td>...</td>\n",
       "    </tr>\n",
       "    <tr>\n",
       "      <th>95</th>\n",
       "      <td>Sensational</td>\n",
       "      <td>The Red Clay Strays</td>\n",
       "    </tr>\n",
       "    <tr>\n",
       "      <th>96</th>\n",
       "      <td>When It Comes To You</td>\n",
       "      <td>Jung Kook</td>\n",
       "    </tr>\n",
       "    <tr>\n",
       "      <th>97</th>\n",
       "      <td>IDGAF</td>\n",
       "      <td>Dylan Gossett</td>\n",
       "    </tr>\n",
       "    <tr>\n",
       "      <th>98</th>\n",
       "      <td>Save Me The Trouble</td>\n",
       "      <td>Noah Kahan With Hozier</td>\n",
       "    </tr>\n",
       "    <tr>\n",
       "      <th>99</th>\n",
       "      <td>Red Sky</td>\n",
       "      <td>Maluma &amp; Carin Leon</td>\n",
       "    </tr>\n",
       "  </tbody>\n",
       "</table>\n",
       "<p>100 rows × 2 columns</p>\n",
       "</div>"
      ],
      "text/plain": [
       "                song_name                           artist_name\n",
       "0             Lovin On Me                           Jack Harlow\n",
       "1            Cruel Summer                          Taylor Swift\n",
       "2                  Greedy                            Tate McRae\n",
       "3            Lose Control                           Teddy Swims\n",
       "4   I Remember Everything  Zach Bryan Featuring Kacey Musgraves\n",
       "..                    ...                                   ...\n",
       "95            Sensational                   The Red Clay Strays\n",
       "96   When It Comes To You                             Jung Kook\n",
       "97                  IDGAF                         Dylan Gossett\n",
       "98    Save Me The Trouble                Noah Kahan With Hozier\n",
       "99                Red Sky                   Maluma & Carin Leon\n",
       "\n",
       "[100 rows x 2 columns]"
      ]
     },
     "execution_count": 237,
     "metadata": {},
     "output_type": "execute_result"
    }
   ],
   "source": [
    "df.join(df_art)"
   ]
  }
 ],
 "metadata": {
  "kernelspec": {
   "display_name": "Python 3 (ipykernel)",
   "language": "python",
   "name": "python3"
  },
  "language_info": {
   "codemirror_mode": {
    "name": "ipython",
    "version": 3
   },
   "file_extension": ".py",
   "mimetype": "text/x-python",
   "name": "python",
   "nbconvert_exporter": "python",
   "pygments_lexer": "ipython3",
   "version": "3.11.5"
  }
 },
 "nbformat": 4,
 "nbformat_minor": 5
}
